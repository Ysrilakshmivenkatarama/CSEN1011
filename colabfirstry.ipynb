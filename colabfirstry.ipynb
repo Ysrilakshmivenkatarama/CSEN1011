{
  "nbformat": 4,
  "nbformat_minor": 0,
  "metadata": {
    "colab": {
      "provenance": [],
      "authorship_tag": "ABX9TyNOLjFY2UifYsLYQh+CB/XG",
      "include_colab_link": true
    },
    "kernelspec": {
      "name": "python3",
      "display_name": "Python 3"
    },
    "language_info": {
      "name": "python"
    }
  },
  "cells": [
    {
      "cell_type": "markdown",
      "metadata": {
        "id": "view-in-github",
        "colab_type": "text"
      },
      "source": [
        "<a href=\"https://colab.research.google.com/github/Ysrilakshmivenkatarama/CSEN1011/blob/main/colabfirstry.ipynb\" target=\"_parent\"><img src=\"https://colab.research.google.com/assets/colab-badge.svg\" alt=\"Open In Colab\"/></a>"
      ]
    },
    {
      "cell_type": "code",
      "execution_count": 9,
      "metadata": {
        "colab": {
          "base_uri": "https://localhost:8080/"
        },
        "collapsed": true,
        "id": "tBKuT-tOHV8P",
        "outputId": "58f7c035-08ed-4852-f93f-e3d6ab841cb7"
      },
      "outputs": [
        {
          "output_type": "stream",
          "name": "stdout",
          "text": [
            "enter a pharse:nothing but always you\n",
            "ngthgng bgt glwgys ygg\n"
          ]
        }
      ],
      "source": [
        "def translate(pharse):\n",
        "  translation = \"\"\n",
        "  for letter in pharse:\n",
        "    if letter in \"AEIOUaeiou\":\n",
        "      translation =  translation +\"g\"\n",
        "    else:\n",
        "       translation =  translation +letter\n",
        "  return translation\n",
        "print(translate(input(\"enter a pharse:\")))"
      ]
    },
    {
      "cell_type": "markdown",
      "source": [
        "this translator translates, where it replaces all vowels in sting into \"g\".\n"
      ],
      "metadata": {
        "id": "MOJmtqexO1Uk"
      }
    },
    {
      "cell_type": "code",
      "source": [
        "try:\n",
        "  number = int(input(\"enter a number:\"))\n",
        "  print(number)\n",
        "except ValueError:\n",
        "  print(\"Invalid Input\")"
      ],
      "metadata": {
        "colab": {
          "base_uri": "https://localhost:8080/"
        },
        "collapsed": true,
        "id": "uf_6N2OyPOHX",
        "outputId": "686f3b3b-9bc6-4a4c-b7af-49ab667213f0"
      },
      "execution_count": 11,
      "outputs": [
        {
          "output_type": "stream",
          "name": "stdout",
          "text": [
            "enter a number:4\n",
            "4\n"
          ]
        }
      ]
    },
    {
      "cell_type": "markdown",
      "source": [
        "this code handle the errors using the try/except"
      ],
      "metadata": {
        "id": "hWINKx8vSHPD"
      }
    }
  ]
}